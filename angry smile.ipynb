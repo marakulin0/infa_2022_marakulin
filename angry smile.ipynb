{
 "cells": [
  {
   "cell_type": "code",
   "execution_count": 28,
   "metadata": {},
   "outputs": [],
   "source": [
    "import pygame\n",
    "from pygame.draw import *\n",
    "\n",
    "pygame.init()\n",
    "\n",
    "FPS = 30\n",
    "screen = pygame.display.set_mode((400, 400))\n",
    "rect(screen, (255, 255, 255), (0, 0, 400, 400), 200)\n",
    "circle(screen, (255, 255, 50), (200, 175), 100)\n",
    "circle(screen, (255, 0, 0),(150,150), 30)\n",
    "circle(screen, (255, 0, 0), (250, 150), 30)\n",
    "circle(screen, (0, 0, 0), (150, 150), 14)\n",
    "circle(screen, (0, 0, 0), (250, 150), 12)\n",
    "rect(screen, (0, 0, 0), (150, 220, 100, 20), 50)\n",
    "line(screen, (0, 0, 0), [115, 105],[190,140], 15)\n",
    "line(screen,(0, 0, 0), [210, 140],[295,105], 15)\n",
    "pygame.display.update()\n",
    "clock = pygame.time.Clock()\n",
    "finished = False\n",
    "\n",
    "while not finished:\n",
    "    clock.tick(FPS)\n",
    "    for event in pygame.event.get():\n",
    "        if event.type == pygame.QUIT:\n",
    "            finished = True\n",
    "\n",
    "pygame.quit()"
   ]
  }
 ],
 "metadata": {
  "kernelspec": {
   "display_name": "Python 3.10.6 64-bit",
   "language": "python",
   "name": "python3"
  },
  "language_info": {
   "codemirror_mode": {
    "name": "ipython",
    "version": 3
   },
   "file_extension": ".py",
   "mimetype": "text/x-python",
   "name": "python",
   "nbconvert_exporter": "python",
   "pygments_lexer": "ipython3",
   "version": "3.10.6"
  },
  "orig_nbformat": 4,
  "vscode": {
   "interpreter": {
    "hash": "1112ced2ed95eb3fd2ae80961da12899d2d7aac15210664a825b07039125c887"
   }
  }
 },
 "nbformat": 4,
 "nbformat_minor": 2
}
